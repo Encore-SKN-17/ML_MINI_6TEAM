{
 "cells": [
  {
   "cell_type": "markdown",
   "id": "6d08f439",
   "metadata": {},
   "source": [
    "# DataFrame 형성"
   ]
  },
  {
   "cell_type": "code",
   "execution_count": 30,
   "id": "6508fbf5",
   "metadata": {},
   "outputs": [],
   "source": [
    "import pandas as pd\n",
    "import numpy as np\n",
    "from sklearn.preprocessing import StandardScaler\n",
    "from sklearn.preprocessing import MinMaxScaler\n",
    "from sklearn.linear_model import LogisticRegression\n",
    "from sklearn.model_selection import train_test_split\n",
    "from sklearn.decomposition import PCA\n",
    "from sklearn.decomposition import KernelPCA\n",
    "from sklearn.metrics import classification_report"
   ]
  },
  {
   "cell_type": "code",
   "execution_count": 31,
   "id": "aa573270",
   "metadata": {},
   "outputs": [
    {
     "name": "stdout",
     "output_type": "stream",
     "text": [
      "<class 'pandas.core.frame.DataFrame'>\n",
      "RangeIndex: 2149 entries, 0 to 2148\n",
      "Data columns (total 35 columns):\n",
      " #   Column                     Non-Null Count  Dtype  \n",
      "---  ------                     --------------  -----  \n",
      " 0   PatientID                  2149 non-null   int64  \n",
      " 1   Age                        2149 non-null   int64  \n",
      " 2   Gender                     2149 non-null   int64  \n",
      " 3   Ethnicity                  2149 non-null   int64  \n",
      " 4   EducationLevel             2149 non-null   int64  \n",
      " 5   BMI                        2149 non-null   float64\n",
      " 6   Smoking                    2149 non-null   int64  \n",
      " 7   AlcoholConsumption         2149 non-null   float64\n",
      " 8   PhysicalActivity           2149 non-null   float64\n",
      " 9   DietQuality                2149 non-null   float64\n",
      " 10  SleepQuality               2149 non-null   float64\n",
      " 11  FamilyHistoryAlzheimers    2149 non-null   int64  \n",
      " 12  CardiovascularDisease      2149 non-null   int64  \n",
      " 13  Diabetes                   2149 non-null   int64  \n",
      " 14  Depression                 2149 non-null   int64  \n",
      " 15  HeadInjury                 2149 non-null   int64  \n",
      " 16  Hypertension               2149 non-null   int64  \n",
      " 17  SystolicBP                 2149 non-null   int64  \n",
      " 18  DiastolicBP                2149 non-null   int64  \n",
      " 19  CholesterolTotal           2149 non-null   float64\n",
      " 20  CholesterolLDL             2149 non-null   float64\n",
      " 21  CholesterolHDL             2149 non-null   float64\n",
      " 22  CholesterolTriglycerides   2149 non-null   float64\n",
      " 23  MMSE                       2149 non-null   float64\n",
      " 24  FunctionalAssessment       2149 non-null   float64\n",
      " 25  MemoryComplaints           2149 non-null   int64  \n",
      " 26  BehavioralProblems         2149 non-null   int64  \n",
      " 27  ADL                        2149 non-null   float64\n",
      " 28  Confusion                  2149 non-null   int64  \n",
      " 29  Disorientation             2149 non-null   int64  \n",
      " 30  PersonalityChanges         2149 non-null   int64  \n",
      " 31  DifficultyCompletingTasks  2149 non-null   int64  \n",
      " 32  Forgetfulness              2149 non-null   int64  \n",
      " 33  Diagnosis                  2149 non-null   int64  \n",
      " 34  DoctorInCharge             2149 non-null   object \n",
      "dtypes: float64(12), int64(22), object(1)\n",
      "memory usage: 587.7+ KB\n"
     ]
    }
   ],
   "source": [
    "df = pd.read_csv('./data/alzheimers_disease_data.csv')\n",
    "df.info()"
   ]
  },
  {
   "cell_type": "code",
   "execution_count": 32,
   "id": "56fbb73d",
   "metadata": {},
   "outputs": [],
   "source": [
    "\n",
    "df = df[['Gender' , 'AlcoholConsumption', 'PhysicalActivity', 'SleepQuality', 'FamilyHistoryAlzheimers', 'CholesterolTriglycerides','DietQuality', 'BMI', 'MemoryComplaints', 'Diagnosis' ]]"
   ]
  },
  {
   "cell_type": "code",
   "execution_count": 33,
   "id": "30a7ada6",
   "metadata": {},
   "outputs": [
    {
     "data": {
      "text/plain": [
       "FamilyHistoryAlzheimers  Diagnosis\n",
       "0                        0            1024\n",
       "                         1             583\n",
       "1                        0             365\n",
       "                         1             177\n",
       "Name: count, dtype: int64"
      ]
     },
     "execution_count": 33,
     "metadata": {},
     "output_type": "execute_result"
    }
   ],
   "source": [
    "df.groupby('FamilyHistoryAlzheimers')['Diagnosis'].value_counts()"
   ]
  },
  {
   "cell_type": "code",
   "execution_count": 34,
   "id": "9109a8a9",
   "metadata": {},
   "outputs": [
    {
     "data": {
      "text/html": [
       "<div>\n",
       "<style scoped>\n",
       "    .dataframe tbody tr th:only-of-type {\n",
       "        vertical-align: middle;\n",
       "    }\n",
       "\n",
       "    .dataframe tbody tr th {\n",
       "        vertical-align: top;\n",
       "    }\n",
       "\n",
       "    .dataframe thead th {\n",
       "        text-align: right;\n",
       "    }\n",
       "</style>\n",
       "<table border=\"1\" class=\"dataframe\">\n",
       "  <thead>\n",
       "    <tr style=\"text-align: right;\">\n",
       "      <th></th>\n",
       "      <th>Gender</th>\n",
       "      <th>AlcoholConsumption</th>\n",
       "      <th>PhysicalActivity</th>\n",
       "      <th>SleepQuality</th>\n",
       "      <th>FamilyHistoryAlzheimers</th>\n",
       "      <th>CholesterolTriglycerides</th>\n",
       "      <th>DietQuality</th>\n",
       "      <th>BMI</th>\n",
       "      <th>MemoryComplaints</th>\n",
       "      <th>Diagnosis</th>\n",
       "    </tr>\n",
       "  </thead>\n",
       "  <tbody>\n",
       "    <tr>\n",
       "      <th>count</th>\n",
       "      <td>2149.000000</td>\n",
       "      <td>2149.000000</td>\n",
       "      <td>2149.000000</td>\n",
       "      <td>2149.000000</td>\n",
       "      <td>2149.000000</td>\n",
       "      <td>2149.000000</td>\n",
       "      <td>2149.000000</td>\n",
       "      <td>2149.000000</td>\n",
       "      <td>2149.000000</td>\n",
       "      <td>2149.000000</td>\n",
       "    </tr>\n",
       "    <tr>\n",
       "      <th>mean</th>\n",
       "      <td>0.506282</td>\n",
       "      <td>10.039442</td>\n",
       "      <td>4.920202</td>\n",
       "      <td>7.051081</td>\n",
       "      <td>0.252210</td>\n",
       "      <td>228.281496</td>\n",
       "      <td>4.993138</td>\n",
       "      <td>27.655697</td>\n",
       "      <td>0.208004</td>\n",
       "      <td>0.353653</td>\n",
       "    </tr>\n",
       "    <tr>\n",
       "      <th>std</th>\n",
       "      <td>0.500077</td>\n",
       "      <td>5.757910</td>\n",
       "      <td>2.857191</td>\n",
       "      <td>1.763573</td>\n",
       "      <td>0.434382</td>\n",
       "      <td>101.986721</td>\n",
       "      <td>2.909055</td>\n",
       "      <td>7.217438</td>\n",
       "      <td>0.405974</td>\n",
       "      <td>0.478214</td>\n",
       "    </tr>\n",
       "    <tr>\n",
       "      <th>min</th>\n",
       "      <td>0.000000</td>\n",
       "      <td>0.002003</td>\n",
       "      <td>0.003616</td>\n",
       "      <td>4.002629</td>\n",
       "      <td>0.000000</td>\n",
       "      <td>50.407194</td>\n",
       "      <td>0.009385</td>\n",
       "      <td>15.008851</td>\n",
       "      <td>0.000000</td>\n",
       "      <td>0.000000</td>\n",
       "    </tr>\n",
       "    <tr>\n",
       "      <th>25%</th>\n",
       "      <td>0.000000</td>\n",
       "      <td>5.139810</td>\n",
       "      <td>2.570626</td>\n",
       "      <td>5.482997</td>\n",
       "      <td>0.000000</td>\n",
       "      <td>137.583222</td>\n",
       "      <td>2.458455</td>\n",
       "      <td>21.611408</td>\n",
       "      <td>0.000000</td>\n",
       "      <td>0.000000</td>\n",
       "    </tr>\n",
       "    <tr>\n",
       "      <th>50%</th>\n",
       "      <td>1.000000</td>\n",
       "      <td>9.934412</td>\n",
       "      <td>4.766424</td>\n",
       "      <td>7.115646</td>\n",
       "      <td>0.000000</td>\n",
       "      <td>230.301983</td>\n",
       "      <td>5.076087</td>\n",
       "      <td>27.823924</td>\n",
       "      <td>0.000000</td>\n",
       "      <td>0.000000</td>\n",
       "    </tr>\n",
       "    <tr>\n",
       "      <th>75%</th>\n",
       "      <td>1.000000</td>\n",
       "      <td>15.157931</td>\n",
       "      <td>7.427899</td>\n",
       "      <td>8.562521</td>\n",
       "      <td>1.000000</td>\n",
       "      <td>314.839046</td>\n",
       "      <td>7.558625</td>\n",
       "      <td>33.869778</td>\n",
       "      <td>0.000000</td>\n",
       "      <td>1.000000</td>\n",
       "    </tr>\n",
       "    <tr>\n",
       "      <th>max</th>\n",
       "      <td>1.000000</td>\n",
       "      <td>19.989293</td>\n",
       "      <td>9.987429</td>\n",
       "      <td>9.999840</td>\n",
       "      <td>1.000000</td>\n",
       "      <td>399.941862</td>\n",
       "      <td>9.998346</td>\n",
       "      <td>39.992767</td>\n",
       "      <td>1.000000</td>\n",
       "      <td>1.000000</td>\n",
       "    </tr>\n",
       "  </tbody>\n",
       "</table>\n",
       "</div>"
      ],
      "text/plain": [
       "            Gender  AlcoholConsumption  PhysicalActivity  SleepQuality  \\\n",
       "count  2149.000000         2149.000000       2149.000000   2149.000000   \n",
       "mean      0.506282           10.039442          4.920202      7.051081   \n",
       "std       0.500077            5.757910          2.857191      1.763573   \n",
       "min       0.000000            0.002003          0.003616      4.002629   \n",
       "25%       0.000000            5.139810          2.570626      5.482997   \n",
       "50%       1.000000            9.934412          4.766424      7.115646   \n",
       "75%       1.000000           15.157931          7.427899      8.562521   \n",
       "max       1.000000           19.989293          9.987429      9.999840   \n",
       "\n",
       "       FamilyHistoryAlzheimers  CholesterolTriglycerides  DietQuality  \\\n",
       "count              2149.000000               2149.000000  2149.000000   \n",
       "mean                  0.252210                228.281496     4.993138   \n",
       "std                   0.434382                101.986721     2.909055   \n",
       "min                   0.000000                 50.407194     0.009385   \n",
       "25%                   0.000000                137.583222     2.458455   \n",
       "50%                   0.000000                230.301983     5.076087   \n",
       "75%                   1.000000                314.839046     7.558625   \n",
       "max                   1.000000                399.941862     9.998346   \n",
       "\n",
       "               BMI  MemoryComplaints    Diagnosis  \n",
       "count  2149.000000       2149.000000  2149.000000  \n",
       "mean     27.655697          0.208004     0.353653  \n",
       "std       7.217438          0.405974     0.478214  \n",
       "min      15.008851          0.000000     0.000000  \n",
       "25%      21.611408          0.000000     0.000000  \n",
       "50%      27.823924          0.000000     0.000000  \n",
       "75%      33.869778          0.000000     1.000000  \n",
       "max      39.992767          1.000000     1.000000  "
      ]
     },
     "execution_count": 34,
     "metadata": {},
     "output_type": "execute_result"
    }
   ],
   "source": [
    "df.describe()"
   ]
  },
  {
   "cell_type": "markdown",
   "id": "3b7a1ae7",
   "metadata": {},
   "source": [
    "## 1. LogisticRegression 전체 - Scaling 없이\n"
   ]
  },
  {
   "cell_type": "code",
   "execution_count": 35,
   "id": "b942f2f2",
   "metadata": {},
   "outputs": [
    {
     "name": "stdout",
     "output_type": "stream",
     "text": [
      "LogisticRegression(Scaling 없이)\n",
      "학습 점수 : 0.7051520794537555\n",
      "테스트 점수: 0.7026022304832714\n",
      "\n",
      "📋 분류 리포트:\n",
      "               precision    recall  f1-score   support\n",
      "\n",
      "           0       0.72      0.88      0.79       342\n",
      "           1       0.66      0.39      0.49       196\n",
      "\n",
      "    accuracy                           0.70       538\n",
      "   macro avg       0.69      0.64      0.64       538\n",
      "weighted avg       0.69      0.70      0.68       538\n",
      "\n"
     ]
    }
   ],
   "source": [
    "# X와 y 데이터 분리\n",
    "X = df.drop(['Diagnosis'],axis=1)\n",
    "y = df['Diagnosis']\n",
    "\n",
    "# 훈련 데이터와 테스트 데이터 분리\n",
    "X_train, X_test, y_train, y_test = train_test_split(X, y, random_state=42)\n",
    "\n",
    "# 모델 객체 생성 및 학습 & 평가\n",
    "lr = LogisticRegression(max_iter=1000)\n",
    "lr.fit(X_train, y_train)\n",
    "y_pred = lr.predict(X_test)\n",
    "\n",
    "# 모델 성능 평가\n",
    "print('LogisticRegression(Scaling 없이)')\n",
    "print('학습 점수 :', lr.score(X_train,y_train))\n",
    "print('테스트 점수:', lr.score(X_test,y_test))\n",
    "print(\"\\n📋 분류 리포트:\\n\", classification_report(y_test, y_pred))\n"
   ]
  },
  {
   "cell_type": "markdown",
   "id": "6658f18b",
   "metadata": {},
   "source": [
    "## 2. LogisticRegression 전체 - StandardScaler 0"
   ]
  },
  {
   "cell_type": "code",
   "execution_count": 36,
   "id": "5719ddfe",
   "metadata": {},
   "outputs": [
    {
     "name": "stdout",
     "output_type": "stream",
     "text": [
      "LogisticRegression( StandardScaling O )\n",
      "학습 점수 : 0.7051520794537555\n",
      "테스트 점수: 0.7026022304832714\n",
      "\n",
      "📋 분류 리포트:\n",
      "               precision    recall  f1-score   support\n",
      "\n",
      "           0       0.72      0.88      0.79       342\n",
      "           1       0.66      0.39      0.49       196\n",
      "\n",
      "    accuracy                           0.70       538\n",
      "   macro avg       0.69      0.64      0.64       538\n",
      "weighted avg       0.69      0.70      0.68       538\n",
      "\n"
     ]
    },
    {
     "name": "stderr",
     "output_type": "stream",
     "text": [
      "c:\\Users\\Playdata\\anaconda3\\envs\\ml_env\\Lib\\site-packages\\sklearn\\utils\\validation.py:2749: UserWarning: X does not have valid feature names, but LogisticRegression was fitted with feature names\n",
      "  warnings.warn(\n",
      "c:\\Users\\Playdata\\anaconda3\\envs\\ml_env\\Lib\\site-packages\\sklearn\\utils\\validation.py:2749: UserWarning: X does not have valid feature names, but LogisticRegression was fitted with feature names\n",
      "  warnings.warn(\n",
      "c:\\Users\\Playdata\\anaconda3\\envs\\ml_env\\Lib\\site-packages\\sklearn\\utils\\validation.py:2749: UserWarning: X does not have valid feature names, but LogisticRegression was fitted with feature names\n",
      "  warnings.warn(\n"
     ]
    }
   ],
   "source": [
    "\n",
    "\n",
    "X = df.drop('Diagnosis',axis=1)\n",
    "y = df['Diagnosis']\n",
    "\n",
    "X_train, X_test, y_train, y_test = train_test_split(X, y, random_state=42)\n",
    "\n",
    "scaler1 = StandardScaler()\n",
    "\n",
    "X_train_scaled = scaler1.fit_transform(X_train)\n",
    "X_test_scaled = scaler1.transform(X_test)\n",
    "\n",
    "lr1 = LogisticRegression(max_iter=1000)\n",
    "lr1.fit(X_train_scaled, y_train)\n",
    "y_pred = lr.predict(X_test_scaled)\n",
    "\n",
    "# 모델 성능 평가\n",
    "print('LogisticRegression( StandardScaling O )')\n",
    "print('학습 점수 :', lr.score(X_train_scaled,y_train))\n",
    "print('테스트 점수:', lr.score(X_test_scaled,y_test))\n",
    "print(\"\\n📋 분류 리포트:\\n\", classification_report(y_test, y_pred))"
   ]
  },
  {
   "cell_type": "markdown",
   "id": "957c3f3a",
   "metadata": {},
   "source": [
    "## 3. LogisticRegression 전체 - MinMaxScaler\n"
   ]
  },
  {
   "cell_type": "code",
   "execution_count": 37,
   "id": "cd8d1a8e",
   "metadata": {},
   "outputs": [
    {
     "name": "stdout",
     "output_type": "stream",
     "text": [
      "LogisticRegression( StandardScaling O )\n",
      "학습 점수 : 0.7051520794537555\n",
      "테스트 점수: 0.7026022304832714\n",
      "\n",
      "📋 분류 리포트:\n",
      "               precision    recall  f1-score   support\n",
      "\n",
      "           0       0.72      0.88      0.79       342\n",
      "           1       0.66      0.39      0.49       196\n",
      "\n",
      "    accuracy                           0.70       538\n",
      "   macro avg       0.69      0.64      0.64       538\n",
      "weighted avg       0.69      0.70      0.68       538\n",
      "\n"
     ]
    }
   ],
   "source": [
    "\n",
    "X = df.drop(['Diagnosis'],axis=1)\n",
    "y = df['Diagnosis']\n",
    "\n",
    "X_train, X_test, y_train, y_test = train_test_split(X, y, random_state=42)\n",
    "\n",
    "scaler = MinMaxScaler()\n",
    "\n",
    "X_train_scaled = scaler.fit_transform(X_train)\n",
    "X_test_scaled = scaler.transform(X_test)\n",
    "\n",
    "lr = LogisticRegression(max_iter=1000)\n",
    "\n",
    "lr.fit(X_train_scaled, y_train)\n",
    "y_pred = lr.predict(X_test_scaled)\n",
    "\n",
    "# 모델 성능 평가\n",
    "print('LogisticRegression( StandardScaling O )')\n",
    "print('학습 점수 :', lr.score(X_train_scaled,y_train))\n",
    "print('테스트 점수:', lr.score(X_test_scaled,y_test))\n",
    "print(\"\\n📋 분류 리포트:\\n\", classification_report(y_test, y_pred))"
   ]
  },
  {
   "cell_type": "markdown",
   "id": "09a9e8f2",
   "metadata": {},
   "source": [
    "## 4. LogisticRegression (MemoryComplaints 없이) - Scaling 없이"
   ]
  },
  {
   "cell_type": "code",
   "execution_count": 38,
   "id": "8000dae6",
   "metadata": {},
   "outputs": [
    {
     "name": "stdout",
     "output_type": "stream",
     "text": [
      "LogisticRegression( StandardScaling X )\n",
      "학습 점수 : 0.6499068901303539\n",
      "테스트 점수: 0.6356877323420075\n",
      "\n",
      "📋 분류 리포트:\n",
      "               precision    recall  f1-score   support\n",
      "\n",
      "           0       0.64      1.00      0.78       342\n",
      "           1       0.00      0.00      0.00       196\n",
      "\n",
      "    accuracy                           0.64       538\n",
      "   macro avg       0.32      0.50      0.39       538\n",
      "weighted avg       0.40      0.64      0.49       538\n",
      "\n"
     ]
    },
    {
     "name": "stderr",
     "output_type": "stream",
     "text": [
      "c:\\Users\\Playdata\\anaconda3\\envs\\ml_env\\Lib\\site-packages\\sklearn\\metrics\\_classification.py:1706: UndefinedMetricWarning: Precision is ill-defined and being set to 0.0 in labels with no predicted samples. Use `zero_division` parameter to control this behavior.\n",
      "  _warn_prf(average, modifier, f\"{metric.capitalize()} is\", result.shape[0])\n",
      "c:\\Users\\Playdata\\anaconda3\\envs\\ml_env\\Lib\\site-packages\\sklearn\\metrics\\_classification.py:1706: UndefinedMetricWarning: Precision is ill-defined and being set to 0.0 in labels with no predicted samples. Use `zero_division` parameter to control this behavior.\n",
      "  _warn_prf(average, modifier, f\"{metric.capitalize()} is\", result.shape[0])\n",
      "c:\\Users\\Playdata\\anaconda3\\envs\\ml_env\\Lib\\site-packages\\sklearn\\metrics\\_classification.py:1706: UndefinedMetricWarning: Precision is ill-defined and being set to 0.0 in labels with no predicted samples. Use `zero_division` parameter to control this behavior.\n",
      "  _warn_prf(average, modifier, f\"{metric.capitalize()} is\", result.shape[0])\n"
     ]
    }
   ],
   "source": [
    "\n",
    "X = df.drop(['Diagnosis','MemoryComplaints'],axis=1)\n",
    "y = df['Diagnosis']\n",
    "\n",
    "X_train, X_test, y_train, y_test = train_test_split(X, y, random_state=42)\n",
    "\n",
    "lr = LogisticRegression(max_iter=1000)\n",
    "lr.fit(X_train, y_train)\n",
    "y_pred = lr.predict(X_test)\n",
    "\n",
    "# 모델 성능 평가\n",
    "print('LogisticRegression( StandardScaling X )')\n",
    "print('학습 점수 :', lr.score(X_train,y_train))\n",
    "print('테스트 점수:', lr.score(X_test,y_test))\n",
    "print(\"\\n📋 분류 리포트:\\n\", classification_report(y_test, y_pred))"
   ]
  },
  {
   "cell_type": "markdown",
   "id": "f9662690",
   "metadata": {},
   "source": [
    "## 5. LogisticRegression (MemoryComplaints 없이) - StandardScaler 0\n"
   ]
  },
  {
   "cell_type": "code",
   "execution_count": 39,
   "id": "697c3ba7",
   "metadata": {},
   "outputs": [
    {
     "name": "stdout",
     "output_type": "stream",
     "text": [
      "LogisticRegression( MemoryComplaints ,StandardScaling O )\n",
      "학습 점수 : 0.6499068901303539\n",
      "테스트 점수: 0.6356877323420075\n",
      "\n",
      "📋 분류 리포트:\n",
      "               precision    recall  f1-score   support\n",
      "\n",
      "           0       0.64      1.00      0.78       342\n",
      "           1       0.00      0.00      0.00       196\n",
      "\n",
      "    accuracy                           0.64       538\n",
      "   macro avg       0.32      0.50      0.39       538\n",
      "weighted avg       0.40      0.64      0.49       538\n",
      "\n"
     ]
    },
    {
     "name": "stderr",
     "output_type": "stream",
     "text": [
      "c:\\Users\\Playdata\\anaconda3\\envs\\ml_env\\Lib\\site-packages\\sklearn\\metrics\\_classification.py:1706: UndefinedMetricWarning: Precision is ill-defined and being set to 0.0 in labels with no predicted samples. Use `zero_division` parameter to control this behavior.\n",
      "  _warn_prf(average, modifier, f\"{metric.capitalize()} is\", result.shape[0])\n",
      "c:\\Users\\Playdata\\anaconda3\\envs\\ml_env\\Lib\\site-packages\\sklearn\\metrics\\_classification.py:1706: UndefinedMetricWarning: Precision is ill-defined and being set to 0.0 in labels with no predicted samples. Use `zero_division` parameter to control this behavior.\n",
      "  _warn_prf(average, modifier, f\"{metric.capitalize()} is\", result.shape[0])\n",
      "c:\\Users\\Playdata\\anaconda3\\envs\\ml_env\\Lib\\site-packages\\sklearn\\metrics\\_classification.py:1706: UndefinedMetricWarning: Precision is ill-defined and being set to 0.0 in labels with no predicted samples. Use `zero_division` parameter to control this behavior.\n",
      "  _warn_prf(average, modifier, f\"{metric.capitalize()} is\", result.shape[0])\n"
     ]
    }
   ],
   "source": [
    "\n",
    "X = df.drop(['Diagnosis','MemoryComplaints'],axis=1)\n",
    "y = df['Diagnosis']\n",
    "\n",
    "X_train, X_test, y_train, y_test = train_test_split(X, y, random_state=42)\n",
    "\n",
    "scaler = StandardScaler()\n",
    "\n",
    "X_train_scaled = scaler.fit_transform(X_train)\n",
    "X_test_scaled = scaler.transform(X_test)\n",
    "\n",
    "lr = LogisticRegression()\n",
    "\n",
    "lr.fit(X_train_scaled, y_train)\n",
    "y_pred = lr.predict(X_test_scaled)\n",
    "\n",
    "# 모델 성능 평가\n",
    "print('LogisticRegression( MemoryComplaints ,StandardScaling O )')\n",
    "print('학습 점수 :', lr.score(X_train_scaled,y_train))\n",
    "print('테스트 점수:', lr.score(X_test_scaled,y_test))\n",
    "print(\"\\n📋 분류 리포트:\\n\", classification_report(y_test, y_pred))"
   ]
  },
  {
   "cell_type": "markdown",
   "id": "17bd40be",
   "metadata": {},
   "source": [
    "## 6. LogisticRegression (MemoryComplaints 없이) - MinMaxScaler 0"
   ]
  },
  {
   "cell_type": "code",
   "execution_count": 40,
   "id": "457ab363",
   "metadata": {},
   "outputs": [
    {
     "data": {
      "text/plain": [
       "(0.6499068901303539, 0.6356877323420075)"
      ]
     },
     "execution_count": 40,
     "metadata": {},
     "output_type": "execute_result"
    }
   ],
   "source": [
    "\n",
    "test_df5 = df.copy()\n",
    "\n",
    "X = test_df5.drop(['Diagnosis','MemoryComplaints'],axis=1)\n",
    "y = test_df5['Diagnosis']\n",
    "\n",
    "X_train, X_test, y_train, y_test = train_test_split(X, y, random_state=42)\n",
    "\n",
    "scaler = MinMaxScaler()\n",
    "\n",
    "X_train_scaled = scaler.fit_transform(X_train)\n",
    "X_test_scaled = scaler.transform(X_test)\n",
    "\n",
    "lr = LogisticRegression()\n",
    "\n",
    "lr.fit(X_train_scaled, y_train)\n",
    "lr.score(X_train_scaled, y_train), lr.score(X_test_scaled, y_test)"
   ]
  },
  {
   "cell_type": "markdown",
   "id": "61744ea9",
   "metadata": {},
   "source": [
    "## 7. PCA 이용 전체 데이터셋"
   ]
  },
  {
   "cell_type": "code",
   "execution_count": 41,
   "id": "f466afdb",
   "metadata": {},
   "outputs": [
    {
     "data": {
      "text/plain": [
       "(0.6499068901303539, 0.6356877323420075)"
      ]
     },
     "execution_count": 41,
     "metadata": {},
     "output_type": "execute_result"
    }
   ],
   "source": [
    "test_df6 = df.copy()\n",
    "\n",
    "X = test_df6.drop(['Diagnosis'],axis=1)\n",
    "y = test_df6['Diagnosis']\n",
    "\n",
    "pca = PCA(n_components=4)\n",
    "X_pca = pca.fit_transform(X)\n",
    "\n",
    "X_train, X_test, y_train, y_test = train_test_split(X_pca, y, random_state=42)\n",
    "\n",
    "lr = LogisticRegression()\n",
    "\n",
    "lr.fit(X_train, y_train)\n",
    "lr.score(X_train, y_train), lr.score(X_test, y_test)"
   ]
  }
 ],
 "metadata": {
  "kernelspec": {
   "display_name": "ml_env",
   "language": "python",
   "name": "python3"
  },
  "language_info": {
   "codemirror_mode": {
    "name": "ipython",
    "version": 3
   },
   "file_extension": ".py",
   "mimetype": "text/x-python",
   "name": "python",
   "nbconvert_exporter": "python",
   "pygments_lexer": "ipython3",
   "version": "3.12.11"
  }
 },
 "nbformat": 4,
 "nbformat_minor": 5
}
